{
 "cells": [
  {
   "cell_type": "code",
   "execution_count": 2,
   "metadata": {},
   "outputs": [],
   "source": [
    "import warnings\n",
    "warnings.filterwarnings('ignore')"
   ]
  },
  {
   "cell_type": "code",
   "execution_count": 3,
   "metadata": {},
   "outputs": [
    {
     "name": "stdout",
     "output_type": "stream",
     "text": [
      "figures saved to ../tmp/figures\n"
     ]
    }
   ],
   "source": [
    "import numpy as np\n",
    "import pandas as pd\n",
    "import seaborn as sns\n",
    "import matplotlib\n",
    "import matplotlib.pyplot as plt\n",
    "\n",
    "from utils import *\n",
    "pd.set_option('display.max_colwidth', 1000)\n",
    "pd.set_option('display.max_columns', 100)\n",
    "matplotlib.rcParams.update({\"font.size\": 16,'lines.linewidth': 2.5})\n",
    "# matplotlib.rcdefaults()"
   ]
  },
  {
   "cell_type": "code",
   "execution_count": 4,
   "metadata": {},
   "outputs": [],
   "source": [
    "DATA_DIR = '../data/'\n",
    "dfj = get_df(DATA_DIR + 'pai_job_table.csv')\n",
    "dft = get_df(DATA_DIR + 'pai_task_table.csv')\n",
    "dfi = get_df(DATA_DIR + 'pai_instance_table.csv')\n",
    "dfs = get_df(DATA_DIR + 'pai_sensor_table.csv')\n",
    "dfg = get_df(DATA_DIR + 'pai_group_tag_table.csv')\n",
    "dfp = get_df(DATA_DIR + 'pai_machine_spec.csv')\n",
    "dfm = get_df(DATA_DIR + 'pai_machine_metric.csv')"
   ]
  },
  {
   "cell_type": "code",
   "execution_count": 8,
   "metadata": {},
   "outputs": [
    {
     "name": "stdout",
     "output_type": "stream",
     "text": [
      "task_name:\n",
      " ['tensorflow' 'worker' 'PyTorchWorker' 'xComputeWorker' 'ps' 'ReduceTask'\n",
      " 'TensorboardTask' 'evaluator' 'TVMTuneMain' 'DecoderWorker'\n",
      " 'OpenmpiTracker' 'OpenmpiWorker' 'JupyterTask' 'OssToVolumeWorker'\n",
      " 'chief' 'MWorker' 'TransformGraph' 'BladeMain' 'aligraph' 'M1' 'R3_1_2'\n",
      " 'M2' 'R2_1' 'TfClientWorker']\n",
      "gpu_type_spec:\n",
      " [nan 'V100' 'P100' 'V100M32' 'T4' 'MISC']\n",
      "workload:\n",
      " [nan 'bert' 'xlnet' 'nmt' 'graphlearn' 'resnet' 'ctr' 'inception' 'vgg'\n",
      " 'rl']\n"
     ]
    }
   ],
   "source": [
    "# 假设 'df' 是通过 get_df 函数获取到的 DataFrame 对象\n",
    "unique_values_task_name = dft['task_name'].unique()\n",
    "print(\"task_name:\\n\",unique_values_task_name)\n",
    "unique_values1_gpu_type_spec = dfg['gpu_type_spec'].unique()\n",
    "print(\"gpu_type_spec:\\n\",unique_values1_gpu_type_spec)\n",
    "unique_values_workload = dfg['workload'].unique()\n",
    "print(\"workload:\\n\",unique_values_workload)"
   ]
  },
  {
   "cell_type": "code",
   "execution_count": null,
   "metadata": {},
   "outputs": [],
   "source": []
  }
 ],
 "metadata": {
  "kernelspec": {
   "display_name": "graProj",
   "language": "python",
   "name": "python3"
  },
  "language_info": {
   "codemirror_mode": {
    "name": "ipython",
    "version": 3
   },
   "file_extension": ".py",
   "mimetype": "text/x-python",
   "name": "python",
   "nbconvert_exporter": "python",
   "pygments_lexer": "ipython3",
   "version": "3.9.19"
  }
 },
 "nbformat": 4,
 "nbformat_minor": 2
}
