{
 "cells": [
  {
   "cell_type": "code",
   "execution_count": 2,
   "metadata": {},
   "outputs": [],
   "source": [
    "import warnings\n",
    "warnings.filterwarnings('ignore')"
   ]
  },
  {
   "cell_type": "code",
   "execution_count": 3,
   "metadata": {},
   "outputs": [
    {
     "name": "stdout",
     "output_type": "stream",
     "text": [
      "figures saved to ../tmp/figures\n"
     ]
    }
   ],
   "source": [
    "import numpy as np\n",
    "import pandas as pd\n",
    "import seaborn as sns\n",
    "import matplotlib\n",
    "import matplotlib.pyplot as plt\n",
    "\n",
    "from utils import *\n",
    "pd.set_option('display.max_colwidth', 1000)\n",
    "pd.set_option('display.max_columns', 100)\n",
    "matplotlib.rcParams.update({\"font.size\": 16,'lines.linewidth': 2.5})\n",
    "# matplotlib.rcdefaults()"
   ]
  },
  {
   "cell_type": "code",
   "execution_count": 4,
   "metadata": {},
   "outputs": [],
   "source": [
    "DATA_DIR = '../data/'\n",
    "dfj = get_df(DATA_DIR + 'pai_job_table.csv')\n",
    "dft = get_df(DATA_DIR + 'pai_task_table.csv')\n",
    "dfi = get_df(DATA_DIR + 'pai_instance_table.csv')\n",
    "dfs = get_df(DATA_DIR + 'pai_sensor_table.csv')\n",
    "dfg = get_df(DATA_DIR + 'pai_group_tag_table.csv')\n",
    "dfp = get_df(DATA_DIR + 'pai_machine_spec.csv')\n",
    "dfm = get_df(DATA_DIR + 'pai_machine_metric.csv')"
   ]
  },
  {
   "cell_type": "code",
   "execution_count": 5,
   "metadata": {},
   "outputs": [
    {
     "name": "stdout",
     "output_type": "stream",
     "text": [
      "(885073, 10)\n",
      "task_name\n",
      "tensorflow           406944\n",
      "worker               212669\n",
      "ps                   133670\n",
      "PyTorchWorker         70256\n",
      "xComputeWorker        26668\n",
      "evaluator             14238\n",
      "TensorboardTask        7898\n",
      "DecoderWorker          3896\n",
      "ReduceTask             3896\n",
      "JupyterTask            1417\n",
      "TVMTuneMain            1158\n",
      "OssToVolumeWorker       639\n",
      "OpenmpiTracker          536\n",
      "OpenmpiWorker           521\n",
      "MWorker                 396\n",
      "chief                   239\n",
      "BladeMain                32\n",
      "Name: count, dtype: int64 \n",
      "\n",
      "(732691, 10)\n",
      "task_name\n",
      "tensorflow           406944\n",
      "worker               211791\n",
      "PyTorchWorker         70255\n",
      "xComputeWorker        23412\n",
      "evaluator             12536\n",
      "ps                     5142\n",
      "TVMTuneMain            1158\n",
      "OssToVolumeWorker       639\n",
      "OpenmpiWorker           521\n",
      "JupyterTask             252\n",
      "BladeMain                32\n",
      "chief                     9\n",
      "Name: count, dtype: int64 \n",
      "\n",
      "gpu_type_spec:\n",
      " [nan 'V100' 'P100' 'V100M32' 'T4' 'MISC']\n"
     ]
    }
   ],
   "source": [
    "# 假设 'df' 是通过 get_df 函数获取到的 DataFrame 对象\n",
    "# unique_values_task_name = dft['task_name'].unique()\n",
    "# print(\"task_name:\\n\",unique_values_task_name)\n",
    "# print(dft['status'].value_counts)\n",
    "dft1=dft[dft['status']=='Terminated']\n",
    "print(dft1.shape)\n",
    "print(dft1['task_name'].value_counts(),'\\n')\n",
    "dft1 = dft1[(~dft1['plan_gpu'].isnull()) & (~dft1['gpu_type'].isnull())]\n",
    "print(dft1.shape)\n",
    "print(dft1['task_name'].value_counts(),'\\n')\n",
    "\n",
    "\n",
    "unique_values1_gpu_type_spec = dfg['gpu_type_spec'].unique()\n",
    "print(\"gpu_type_spec:\\n\",unique_values1_gpu_type_spec)"
   ]
  },
  {
   "cell_type": "code",
   "execution_count": 6,
   "metadata": {},
   "outputs": [],
   "source": [
    "FILTER_DATA_DIR='../data_filterd/'\n",
    "\n",
    "term_dft=dft[dft['status']=='Terminated']\n",
    "# 插入一列在完成时间之后，计算任务运行时间（完成时间-创建时间）\n",
    "term_dft['run_time'] = term_dft['end_time'] - term_dft['start_time']\n",
    "term_dft.insert(term_dft.columns.get_loc('end_time')+1,'run_time',term_dft.pop('run_time'))\n",
    "term_dft.sort_values(by='start_time',ascending=True,inplace=True)\n",
    "# term_dft['task_type']\n",
    "term_dft.to_csv(FILTER_DATA_DIR+'dft.csv',index=False) # optional\n"
   ]
  },
  {
   "cell_type": "code",
   "execution_count": 7,
   "metadata": {},
   "outputs": [
    {
     "name": "stdout",
     "output_type": "stream",
     "text": [
      "gpu_type\n",
      "MISC       460401\n",
      "T4         196230\n",
      "P100        50319\n",
      "V100        16696\n",
      "V100M32      9045\n",
      "Name: count, dtype: int64\n"
     ]
    }
   ],
   "source": [
    "print(term_dft['gpu_type'].value_counts())\n"
   ]
  },
  {
   "cell_type": "code",
   "execution_count": 5,
   "metadata": {},
   "outputs": [
    {
     "data": {
      "text/plain": [
       "'../../../predictScale/data'"
      ]
     },
     "execution_count": 5,
     "metadata": {},
     "output_type": "execute_result"
    }
   ],
   "source": [
    "import shutil\n",
    "import os\n",
    "\n",
    "# 定义原始文件夹路径和目标文件夹路径\n",
    "source_folder = '../data_filterd'\n",
    "destination_folder = '../../../predictScale/data'\n",
    "\n",
    "# 如果目标文件夹已存在，则先删除它\n",
    "if os.path.exists(destination_folder):\n",
    "    shutil.rmtree(destination_folder)\n",
    "\n",
    "# 使用copytree函数复制文件夹\n",
    "shutil.copytree(source_folder, destination_folder)"
   ]
  }
 ],
 "metadata": {
  "kernelspec": {
   "display_name": "graProj",
   "language": "python",
   "name": "python3"
  },
  "language_info": {
   "codemirror_mode": {
    "name": "ipython",
    "version": 3
   },
   "file_extension": ".py",
   "mimetype": "text/x-python",
   "name": "python",
   "nbconvert_exporter": "python",
   "pygments_lexer": "ipython3",
   "version": "3.9.19"
  }
 },
 "nbformat": 4,
 "nbformat_minor": 2
}
