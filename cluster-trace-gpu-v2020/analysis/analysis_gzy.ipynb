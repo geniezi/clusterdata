{
 "cells": [
  {
   "cell_type": "code",
   "execution_count": 2,
   "metadata": {},
   "outputs": [],
   "source": [
    "import warnings\n",
    "warnings.filterwarnings('ignore')"
   ]
  },
  {
   "cell_type": "code",
   "execution_count": 3,
   "metadata": {},
   "outputs": [
    {
     "name": "stdout",
     "output_type": "stream",
     "text": [
      "figures saved to ../tmp/figures\n"
     ]
    }
   ],
   "source": [
    "import numpy as np\n",
    "import pandas as pd\n",
    "import seaborn as sns\n",
    "import matplotlib\n",
    "import matplotlib.pyplot as plt\n",
    "\n",
    "from utils import *\n",
    "pd.set_option('display.max_colwidth', 1000)\n",
    "pd.set_option('display.max_columns', 100)\n",
    "matplotlib.rcParams.update({\"font.size\": 16,'lines.linewidth': 2.5})\n",
    "# matplotlib.rcdefaults()"
   ]
  },
  {
   "cell_type": "code",
   "execution_count": 4,
   "metadata": {},
   "outputs": [],
   "source": [
    "DATA_DIR = '../data/'\n",
    "dfj = get_df(DATA_DIR + 'pai_job_table.csv')\n",
    "dft = get_df(DATA_DIR + 'pai_task_table.csv')\n",
    "dfi = get_df(DATA_DIR + 'pai_instance_table.csv')\n",
    "dfs = get_df(DATA_DIR + 'pai_sensor_table.csv')\n",
    "dfg = get_df(DATA_DIR + 'pai_group_tag_table.csv')\n",
    "dfp = get_df(DATA_DIR + 'pai_machine_spec.csv')\n",
    "dfm = get_df(DATA_DIR + 'pai_machine_metric.csv')"
   ]
  },
  {
   "cell_type": "code",
   "execution_count": 12,
   "metadata": {},
   "outputs": [
    {
     "name": "stdout",
     "output_type": "stream",
     "text": [
      "(1261050, 10)\n",
      "task_name\n",
      "tensorflow           621415\n",
      "worker               275785\n",
      "ps                   183283\n",
      "PyTorchWorker        110784\n",
      "xComputeWorker        27402\n",
      "evaluator             17210\n",
      "TensorboardTask       10681\n",
      "DecoderWorker          4136\n",
      "ReduceTask             4136\n",
      "JupyterTask            2066\n",
      "TVMTuneMain            1158\n",
      "OpenmpiTracker          745\n",
      "OpenmpiWorker           745\n",
      "OssToVolumeWorker       672\n",
      "MWorker                 404\n",
      "chief                   371\n",
      "BladeMain                39\n",
      "aligraph                  6\n",
      "TransformGraph            3\n",
      "M1                        3\n",
      "R2_1                      2\n",
      "TfClientWorker            2\n",
      "R3_1_2                    1\n",
      "M2                        1\n",
      "Name: count, dtype: int64 \n",
      "\n",
      "gpu_type_spec:\n",
      " [nan 'V100' 'P100' 'V100M32' 'T4' 'MISC']\n"
     ]
    }
   ],
   "source": [
    "# 假设 'df' 是通过 get_df 函数获取到的 DataFrame 对象\n",
    "# unique_values_task_name = dft['task_name'].unique()\n",
    "# print(\"task_name:\\n\",unique_values_task_name)\n",
    "# print(dft['status'].value_counts)\n",
    "dft1=dft[dft['status']=='Terminated']\n",
    "# filter_dft = dft[(~dft['plan_gpu'].isnull) & (~dft['gpu_type'].isnull())]\n",
    "print(dft.shape)\n",
    "print(dft['task_name'].value_counts(),'\\n')\n",
    "\n",
    "\n",
    "unique_values1_gpu_type_spec = dfg['gpu_type_spec'].unique()\n",
    "print(\"gpu_type_spec:\\n\",unique_values1_gpu_type_spec)"
   ]
  },
  {
   "cell_type": "code",
   "execution_count": 14,
   "metadata": {},
   "outputs": [],
   "source": [
    "path='../data_filterd/'\n",
    "term_dft=dft[dft['status']=='Terminated']\n",
    "# 插入一列在完成时间之后，计算任务运行时间（完成时间-创建时间）\n",
    "term_dft['run_time'] = term_dft['end_time'] - term_dft['start_time']\n",
    "term_dft.insert(term_dft.columns.get_loc('end_time')+1,'run_time',term_dft.pop('run_time'))\n",
    "term_dft.to_csv(path+'dft.csv',index=False) # optional\n",
    "# 去除第一列\n",
    "# print(dft.shape, term_dft.shape, filter_dft.shape)\n",
    "# print(filter_dft)"
   ]
  }
 ],
 "metadata": {
  "kernelspec": {
   "display_name": "graProj",
   "language": "python",
   "name": "python3"
  },
  "language_info": {
   "codemirror_mode": {
    "name": "ipython",
    "version": 3
   },
   "file_extension": ".py",
   "mimetype": "text/x-python",
   "name": "python",
   "nbconvert_exporter": "python",
   "pygments_lexer": "ipython3",
   "version": "3.9.19"
  }
 },
 "nbformat": 4,
 "nbformat_minor": 2
}
